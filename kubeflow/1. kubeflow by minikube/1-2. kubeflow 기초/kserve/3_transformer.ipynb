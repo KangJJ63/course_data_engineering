{
 "cells": [
  {
   "cell_type": "markdown",
   "id": "1d08b3f2",
   "metadata": {},
   "source": [
    "# 예제"
   ]
  },
  {
   "cell_type": "markdown",
   "id": "1b8a011c-fe68-452e-b65a-3c0c93e3b24c",
   "metadata": {},
   "source": [
    "#"
   ]
  },
  {
   "cell_type": "code",
   "execution_count": 11,
   "id": "ea18adac-0c57-4649-8e9a-dc4ef5bddf42",
   "metadata": {},
   "outputs": [
    {
     "name": "stdout",
     "output_type": "stream",
     "text": [
      "NAME                 READY                           PREV                    LATEST URL                                                              \n",
      "mobilenet-v2-tran... True                               0                       100 http://mobilenet-v2-transformer.kubeflow-user-example-com.exam...\n"
     ]
    }
   ],
   "source": [
    "from kserve import (\n",
    "    KServeClient,\n",
    "    utils\n",
    ")\n",
    "from kubernetes import client\n",
    "\n",
    "service_name = \"mobilenet-v2-transformer\"\n",
    "namespace = utils.get_default_target_namespace()\n",
    "\n",
    "KServe = KServeClient()\n",
    "\n",
    "KServe.get(service_name, namespace=namespace, watch=True, timeout_seconds=120)\n",
    "isvc_resp=KServe.get(service_name, namespace=namespace)"
   ]
  },
  {
   "cell_type": "code",
   "execution_count": null,
   "id": "f80a9111",
   "metadata": {},
   "outputs": [],
   "source": [
    "image_url = \"https://storage.googleapis.com/download.tensorflow.org/example_images/grace_hopper.jpg\"\n",
    "data = {\n",
    "    \"instances\": [\n",
    "        {\"url\": image_url},\n",
    "    ]\n",
    "}"
   ]
  },
  {
   "cell_type": "code",
   "execution_count": 12,
   "id": "4ffbe99a-69c4-4255-91e3-d2beb935ad31",
   "metadata": {},
   "outputs": [
    {
     "name": "stdout",
     "output_type": "stream",
     "text": [
      "http://mobilenet-v2-transformer.kubeflow-user-example-com.svc.cluster.local/v1/models/mobilenet-v2-transformer:predict\n",
      "{\"predictions\": \"military uniform\"}\n"
     ]
    }
   ],
   "source": [
    "import requests\n",
    "isvc_url = isvc_resp['status']['address']['url']\n",
    "print(isvc_url)\n",
    "\n",
    "response = requests.post(isvc_url, json=data)\n",
    "print(response.text)"
   ]
  }
 ],
 "metadata": {
  "kernelspec": {
   "display_name": "Python 3",
   "language": "python",
   "name": "python3"
  },
  "language_info": {
   "codemirror_mode": {
    "name": "ipython",
    "version": 3
   },
   "file_extension": ".py",
   "mimetype": "text/x-python",
   "name": "python",
   "nbconvert_exporter": "python",
   "pygments_lexer": "ipython3",
   "version": "3.8.10"
  }
 },
 "nbformat": 4,
 "nbformat_minor": 5
}
